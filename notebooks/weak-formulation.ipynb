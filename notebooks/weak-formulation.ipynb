{
  "cells": [
    {
      "cell_type": "markdown",
      "metadata": {
        "iooxa": {
          "id": {
            "block": "XRXnNzNyUsLV40Qxc5IJ",
            "project": "5dxSs15hZtvQDKSzFgjP",
            "version": 2
          }
        }
      },
      "source": [
        "# Weak Formulation\n",
        "\n",
        "Equation (b) is a vector equation, so really it is two or three equations involving multiple components of $\\vec{j}$. We want to work with a single scalar equation, allow for anisotropic physical properties, and potentially work with non-axis-aligned meshes — how do we do this?! We can use the **weak formulation** where we take the inner product ($\\int \\vec{a} \\cdot \\vec{b} dv$) of the equation with a generic face function, $\\vec{f}$. This reduces requirements of differentiability on the original equation and also allows us to consider tensor anisotropy or curvilinear meshes (Haber 2014).\n",
        "\n",
        "## Scalar equations only, please\n",
        "\n",
        "In Figure 5, we visually walk through the discretization of equation (b). On the left hand side, a dot product requires a *single* cartesian vector, $[\\mathbf{j_x, j_y}]$. However, we have a $j$ defined on each face (2 $j_x$ and 2 $j_y$ in 2D!). There are many different ways to evaluate this inner product: we could approximate the integral using trapezoidal, midpoint or higher order approximations. A simple method is to break the integral into four sections (or 8 in 3D) and apply the midpoint rule for each section using the closest $\\mathbf{j}$ components to compose a cartesian vector. A $\\mathbf{P}_i$ matrix (size 2 × 4) is used to pick out the appropriate faces and compose the corresponding vector (these matrices are shown with colors corresponding to the appropriate face in the figure). On the right hand side, we use a vector identity to integrate by parts. The second term will cancel over the entire mesh (as the normals of adjacent cell faces point in opposite directions) and $\\phi$ on mesh boundary faces are zero by the Dirichlet boundary condition. This leaves us with the divergence, [which we already know how to do](divergence.ipynb)!"
      ]
    },
    {
      "cell_type": "markdown",
      "metadata": {
        "iooxa": {
          "id": {
            "block": "mdDk7ewGdTdUKlz8g7yg",
            "project": "5dxSs15hZtvQDKSzFgjP",
            "version": 1
          }
        }
      },
      "source": [
        "\n",
        "```{figure} ../images/weak-formulation.png\n",
        ":name: b8cf04cf\n",
        "\n",
        "Discretization using the weak formulation and inner products.\n",
        "```"
      ]
    },
    {
      "cell_type": "markdown",
      "metadata": {
        "iooxa": {
          "id": {
            "block": "E0m5Jh7cTFESjbe0zrGb",
            "project": "5dxSs15hZtvQDKSzFgjP",
            "version": 2
          }
        }
      },
      "source": [
        "The final step is to recognize that, now discretized, we can cancel the general face function $\\mathbf{f}$ and transpose the result (for convention's sake):"
      ]
    },
    {
      "cell_type": "markdown",
      "metadata": {
        "iooxa": {
          "id": {
            "block": "k3ce9vtzui0ybKCPtcIK",
            "project": "5dxSs15hZtvQDKSzFgjP",
            "version": 3
          }
        }
      },
      "source": [
        "$$\\frac{1}{4} \\sum_{i=1}^4 \\mathbf{P}_i^\\top \\sqrt{v} \\mathbf{\\Sigma}^{-1} \\sqrt{v} \\mathbf{P}_i \\mathbf{j} = \\mathbf{D}^\\top v \\phi$$"
      ]
    },
    {
      "cell_type": "markdown",
      "metadata": {
        "iooxa": {
          "id": {
            "block": "GAbpJlNVTjUM0Z5vtT50",
            "project": "5dxSs15hZtvQDKSzFgjP",
            "version": 1
          }
        }
      },
      "source": [
        "# Implementation\n",
        "\n",
        "We will start by using a SimPEG Mesh that only has a single cell."
      ]
    },
    {
      "cell_type": "code",
      "execution_count": 1,
      "metadata": {
        "collapsed": true,
        "iooxa": {
          "id": {
            "block": "YzzyeWqgAuqxx0PAoA4q",
            "project": "5dxSs15hZtvQDKSzFgjP",
            "version": 1
          },
          "outputId": {
            "block": "P9oBPKfsnXyc0cZTOYEe",
            "project": "5dxSs15hZtvQDKSzFgjP",
            "version": 1
          }
        },
        "trusted": false
      },
      "outputs": [],
      "source": [
        "%matplotlib inline\n",
        "import discretize\n",
        "import numpy as np\n",
        "import matplotlib.pyplot as plt"
      ]
    },
    {
      "cell_type": "code",
      "execution_count": 2,
      "metadata": {
        "collapsed": false,
        "iooxa": {
          "id": {
            "block": "hb8q7AI0MaxLo3uw6PuF",
            "project": "5dxSs15hZtvQDKSzFgjP",
            "version": 1
          },
          "outputId": {
            "block": "jXh403rknR7GhoyOIml3",
            "project": "5dxSs15hZtvQDKSzFgjP",
            "version": 1
          }
        },
        "trusted": false
      },
      "outputs": [
        {
          "data": {
            "image/png": "[encoded data removed]",
            "text/plain": [
              "<Figure size 432x288 with 1 Axes>"
            ]
          },
          "metadata": {
            "needs_background": "light"
          },
          "output_type": "display_data"
        }
      ],
      "source": [
        "fig, ax = plt.subplots(1)\n",
        "mesh = discretize.TensorMesh([1,1])\n",
        "mesh.plot_grid(ax=ax,centers=True,faces=True)\n",
        "ax.set_xlim(-0.5,1.5)\n",
        "ax.set_ylim(-0.5,1.5);"
      ]
    },
    {
      "cell_type": "markdown",
      "metadata": {
        "iooxa": {
          "id": {
            "block": "bEL0LOMgs2fnWo7TPzdf",
            "project": "5dxSs15hZtvQDKSzFgjP",
            "version": 1
          }
        }
      },
      "source": [
        "The figure above is of a single cell, which in 2D has four faces (the green triangles). Two of these are pointed in the x direction and two in the y direction.\n",
        "\n",
        "For this single cell, we need our projection matrices to pick out four cartesian vectors that we will then use in evaluating the full integral.\n",
        "\n",
        "Instead of creating the code from scratch in this notebook, we will leverage some of the internal functions that are in SimPEG. The code is straight forward, but can get a little bit intricate when working with multiple dimensions and indexing in a generalized way (i.e. works for all of the meshes).\n",
        "\n",
        "If you ever want to see the exact code that is executed in a function, you can use two question marks (one for the docs only). For example, execute **`mesh._getFacePxx??`** and Jupyter will show you more than you ever wanted. :)"
      ]
    },
    {
      "cell_type": "code",
      "execution_count": 3,
      "metadata": {
        "collapsed": true,
        "iooxa": {
          "id": {
            "block": "WnkAvpsgmPr1AwUiZyzi",
            "project": "5dxSs15hZtvQDKSzFgjP",
            "version": 1
          },
          "outputId": {
            "block": "mTYUldRSnhSmbCTyfMXG",
            "project": "5dxSs15hZtvQDKSzFgjP",
            "version": 1
          }
        },
        "trusted": false
      },
      "outputs": [],
      "source": [
        "# mesh._getFacePxx??"
      ]
    },
    {
      "cell_type": "markdown",
      "metadata": {
        "iooxa": {
          "id": {
            "block": "NusqKvJ3MlKANE8pOB3b",
            "project": "5dxSs15hZtvQDKSzFgjP",
            "version": 1
          }
        }
      },
      "source": [
        "This function creates the P matrices that we need. The matrix just pick out the appropriate faces and are used later on to evaluate our full integral."
      ]
    },
    {
      "cell_type": "code",
      "execution_count": 4,
      "metadata": {
        "collapsed": false,
        "iooxa": {
          "id": {
            "block": "QIfby0zQOGSFgWrebbFK",
            "project": "5dxSs15hZtvQDKSzFgjP",
            "version": 1
          },
          "outputId": {
            "block": "MMDATgoGoAnhFK9c4ZAA",
            "project": "5dxSs15hZtvQDKSzFgjP",
            "version": 1
          }
        },
        "trusted": false
      },
      "outputs": [
        {
          "name": "stdout",
          "output_type": "stream",
          "text": [
            "[[1. 0. 0. 0.]\n",
            " [0. 0. 1. 0.]]\n"
          ]
        }
      ],
      "source": [
        "# face-x minus side and the face-y minus side\n",
        "P1 = mesh._getFacePxx()('fXm','fYm')\n",
        "print( P1.todense() )"
      ]
    },
    {
      "cell_type": "markdown",
      "metadata": {
        "iooxa": {
          "id": {
            "block": "fJFT2oA1PXeXict2NpfQ",
            "project": "5dxSs15hZtvQDKSzFgjP",
            "version": 1
          }
        }
      },
      "source": [
        "We can create and plot all of the matrices that were in Figure 5:"
      ]
    },
    {
      "cell_type": "code",
      "execution_count": 5,
      "metadata": {
        "collapsed": false,
        "iooxa": {
          "id": {
            "block": "40uVtzW0G0t3yHRCcaaM",
            "project": "5dxSs15hZtvQDKSzFgjP",
            "version": 1
          },
          "outputId": {
            "block": "lrPqqVEm6QxfabDcYLxT",
            "project": "5dxSs15hZtvQDKSzFgjP",
            "version": 1
          }
        },
        "trusted": false
      },
      "outputs": [
        {
          "data": {
            "image/png": "[encoded data removed]",
            "text/plain": [
              "<Figure size 1080x216 with 4 Axes>"
            ]
          },
          "metadata": {
            "needs_background": "light"
          },
          "output_type": "display_data"
        }
      ],
      "source": [
        "P1 = mesh._getFacePxx()('fXm','fYm')\n",
        "P2 = mesh._getFacePxx()('fXp','fYm')\n",
        "P3 = mesh._getFacePxx()('fXm','fYp')\n",
        "P4 = mesh._getFacePxx()('fXp','fYp')\n",
        "fig, ax = plt.subplots(1,4, figsize=(15,3))\n",
        "def plot_projection(ii, ax, P):\n",
        "    ax.spy(P, ms=30)\n",
        "    if P.shape[1]==4:\n",
        "        ax.set_xticks(range(4))\n",
        "        ax.set_xticklabels(('x-','x+','y-','y+'))\n",
        "    ax.set_xlabel('P{}'.format(ii+1))\n",
        "map(plot_projection, range(4), ax, (P1, P2, P3, P4));"
      ]
    },
    {
      "cell_type": "markdown",
      "metadata": {
        "iooxa": {
          "id": {
            "block": "zDZID1FHKMMBwSn6yAau",
            "project": "5dxSs15hZtvQDKSzFgjP",
            "version": 1
          }
        }
      },
      "source": [
        "This assumes that we unwrapped our face vectors in certain way and they are ordered [xfaces, yfaces]."
      ]
    },
    {
      "cell_type": "markdown",
      "metadata": {
        "iooxa": {
          "id": {
            "block": "7ctcHVZ9rbkU8JOISFLu",
            "project": "5dxSs15hZtvQDKSzFgjP",
            "version": 1
          }
        }
      },
      "source": [
        "# All the cells!\n",
        "\n",
        "When we move to more cells the visualization of the matrix is not as clear, so instead we will show a connection from each cell center to the x and y faces that are selected by the P matrix."
      ]
    },
    {
      "cell_type": "code",
      "execution_count": 6,
      "metadata": {
        "collapsed": true,
        "iooxa": {
          "id": {
            "block": "WKYZQIAg0wA0So5pZDNO",
            "project": "5dxSs15hZtvQDKSzFgjP",
            "version": 1
          },
          "outputId": {
            "block": "jv4nylw4aMB6cLuAkltO",
            "project": "5dxSs15hZtvQDKSzFgjP",
            "version": 1
          }
        },
        "trusted": false
      },
      "outputs": [],
      "source": [
        "mesh = discretize.TensorMesh([3,4])"
      ]
    },
    {
      "cell_type": "code",
      "execution_count": 7,
      "metadata": {
        "collapsed": false,
        "iooxa": {
          "id": {
            "block": "EzFA7goTjbyc3oqloq7T",
            "project": "5dxSs15hZtvQDKSzFgjP",
            "version": 1
          },
          "outputId": {
            "block": "vGpoFc2QY9a8Gtz668VL",
            "project": "5dxSs15hZtvQDKSzFgjP",
            "version": 1
          }
        },
        "trusted": false
      },
      "outputs": [
        {
          "data": {
            "image/png": "[encoded data removed]",
            "text/plain": [
              "<Figure size 1080x432 with 4 Axes>"
            ]
          },
          "metadata": {
            "needs_background": "light"
          },
          "output_type": "display_data"
        }
      ],
      "source": [
        "P1 = mesh._getFacePxx()('fXm','fYm')\n",
        "P2 = mesh._getFacePxx()('fXp','fYm')\n",
        "P3 = mesh._getFacePxx()('fXm','fYp')\n",
        "P4 = mesh._getFacePxx()('fXp','fYp')\n",
        "fig, ax = plt.subplots(1,4, figsize=(15,6))\n",
        "def plot_projection(ii, ax, P):\n",
        "    x = P * np.r_[mesh.gridFx[:,0], mesh.gridFy[:,0]]\n",
        "    y = P * np.r_[mesh.gridFx[:,1], mesh.gridFy[:,1]]\n",
        "    xx, xy = x[:mesh.nC], x[mesh.nC:]\n",
        "    yx, yy = y[:mesh.nC], y[mesh.nC:]\n",
        "    ax.plot(np.c_[xx, mesh.gridCC[:,0], xx*np.nan].flatten(), np.c_[yx, mesh.gridCC[:,1], yx*np.nan].flatten(), 'k-')\n",
        "    ax.plot(np.c_[xy, mesh.gridCC[:,0], xy*np.nan].flatten(), np.c_[yy, mesh.gridCC[:,1], yy*np.nan].flatten(), 'k-')\n",
        "    ax.plot(xx, yx, 'g>')\n",
        "    ax.plot(xy, yy, 'g^')\n",
        "    mesh.plot_grid(ax=ax, centers=True)\n",
        "    ax.set_title('P{}'.format(ii+1))\n",
        "map(plot_projection, range(4), ax.flatten(), (P1, P2, P3, P4));\n",
        "plt.tight_layout()"
      ]
    },
    {
      "cell_type": "markdown",
      "metadata": {
        "iooxa": {
          "id": {
            "block": "KPtsBYb1war7X3xTvF4V",
            "project": "5dxSs15hZtvQDKSzFgjP",
            "version": 1
          }
        }
      },
      "source": [
        "Each cell (the center is the red dot) has two faces that it uses, one x component and one y component."
      ]
    },
    {
      "cell_type": "markdown",
      "metadata": {
        "iooxa": {
          "id": {
            "block": "82G9e2DAu4MWgeggqw79",
            "project": "5dxSs15hZtvQDKSzFgjP",
            "version": 1
          }
        }
      },
      "source": [
        "The four $P$ matrices are assembled and summed in the **getFaceInnerProduct** code using this formula:\n",
        "\n",
        "\n",
        "$$\n",
        "\\mathbf{M}_f(\\sigma) = \\frac{1}{4}\\sum_{i=1}^{4} \\mathbf{P}_i^\\top \\sqrt{v} \\boldsymbol{\\Sigma}^{-1} \\sqrt{v} \\mathbf{P}_i\n",
        "$$\n",
        "\n",
        "This function takes a sigma variable which can have any sort of anisotropy:\n",
        "\n",
        "$$\n",
        "\\begin{align}\\begin{aligned}\\begin{split}\\vec{\\mu} = \\left[\\begin{matrix} \\mu_{1} & 0 \\\\ 0 & \\mu_{1} \\end{matrix}\\right]\\end{split}\\\\\\begin{split}\\vec{\\mu} = \\left[\\begin{matrix} \\mu_{1} & 0 \\\\ 0 & \\mu_{2} \\end{matrix}\\right]\\end{split}\\\\\\begin{split}\\vec{\\mu} = \\left[\\begin{matrix} \\mu_{1} & \\mu_{3} \\\\ \\mu_{3} & \\mu_{2} \\end{matrix}\\right]\\end{split}\\end{aligned}\\end{align}\n",
        "$$\n",
        "\n",
        "The matrices that are produced by this function can be seen below!"
      ]
    },
    {
      "cell_type": "code",
      "execution_count": 8,
      "metadata": {
        "collapsed": false,
        "iooxa": {
          "id": {
            "block": "oG3qra6QUeqwyfIQunfa",
            "project": "5dxSs15hZtvQDKSzFgjP",
            "version": 1
          },
          "outputId": {
            "block": "GzIgLkR3zaDoWst5C0gy",
            "project": "5dxSs15hZtvQDKSzFgjP",
            "version": 1
          }
        },
        "trusted": false
      },
      "outputs": [
        {
          "data": {
            "image/png": "[encoded data removed]",
            "text/plain": [
              "<Figure size 1080x288 with 3 Axes>"
            ]
          },
          "metadata": {
            "needs_background": "light"
          },
          "output_type": "display_data"
        }
      ],
      "source": [
        "isotropic       = np.ones(mesh.nC)*4\n",
        "anisotropic_vec = np.r_[np.ones(mesh.nC)*4, np.ones(mesh.nC)]\n",
        "anisotropic     = np.r_[np.ones(mesh.nC)*4, np.ones(mesh.nC), np.ones(mesh.nC)*3]\n",
        "Mf_sig_i = mesh.get_face_inner_product(isotropic)\n",
        "Mf_sig_v = mesh.get_face_inner_product(anisotropic_vec)\n",
        "Mf_sig_a = mesh.get_face_inner_product(anisotropic)\n",
        "clim = (\n",
        "    np.min(map(np.min, (Mf_sig_i.data, Mf_sig_v.data, Mf_sig_a.data))),\n",
        "    np.max(map(np.max, (Mf_sig_i.data, Mf_sig_v.data, Mf_sig_a.data)))\n",
        ")\n",
        "fig, ax = plt.subplots(1,3, figsize=(15,4))\n",
        "def plot_spy(ax, Mf, title):\n",
        "    dense = Mf.toarray()\n",
        "    dense[dense == 0] = np.nan\n",
        "    ms = ax.matshow(dense)#, clim=clim)\n",
        "    plt.colorbar(ms, ax=ax)\n",
        "    ax.set_xlabel(title)\n",
        "map(plot_spy, ax, (Mf_sig_i, Mf_sig_v, Mf_sig_a), ('Isotropic', 'Coordinate Anisotropy', 'Full Anisotropy'));"
      ]
    },
    {
      "cell_type": "markdown",
      "metadata": {
        "iooxa": {
          "id": {
            "block": "gg0HpwxiBxFmCKJlLfvp",
            "project": "5dxSs15hZtvQDKSzFgjP",
            "version": 1
          }
        }
      },
      "source": [
        "In the last figure you can see that there is coupling between the cells in x and y due to the non-coordinate aligned anisotropy. This will make the matrix system harder to solve when we try to invert it!"
      ]
    },
    {
      "cell_type": "markdown",
      "metadata": {
        "iooxa": {
          "id": {
            "block": "mGY80A0iX7A0gH1lrGiQ",
            "project": "5dxSs15hZtvQDKSzFgjP",
            "version": 1
          }
        }
      },
      "source": [
        "# Ok, but does it work?\n",
        "\n",
        "Unfortunately the testing of the innerproducts is not that visual. We need to make sure that the integral of some made up function evaluates to the correct value.\n",
        "\n",
        "So to make something up, and integrate it, we will use **sympy**!\n",
        "\n",
        "We will evaluate the integral:\n",
        "$$\n",
        "\\int_0^1 \\int_0^1 \\sigma(x,y) \\vec{j}(x,y) \\cdot \\vec{j}(x,y) \\quad dx dy\n",
        "$$\n",
        "by making up some ridiculous functions."
      ]
    },
    {
      "cell_type": "code",
      "execution_count": 9,
      "metadata": {
        "collapsed": false,
        "iooxa": {
          "id": {
            "block": "YHg7nx2e6BHty5xLHFmK",
            "project": "5dxSs15hZtvQDKSzFgjP",
            "version": 1
          },
          "outputId": {
            "block": "p5vGrxND1WnUpjXOfnL4",
            "project": "5dxSs15hZtvQDKSzFgjP",
            "version": 1
          }
        },
        "trusted": false
      },
      "outputs": [
        {
          "name": "stdout",
          "output_type": "stream",
          "text": [
            "It is trivial to see that the answer is 42.\n"
          ]
        }
      ],
      "source": [
        "import sympy\n",
        "from sympy.abc import x, y\n",
        "\n",
        "# Here we will make up some j vectors that vary in space\n",
        "j = sympy.Matrix([\n",
        "    x**2+y*5,\n",
        "    (5**2)*x+y*5\n",
        "])\n",
        "\n",
        "# Create an isotropic sigma vector\n",
        "Sig = sympy.Matrix([\n",
        "    [x*y*432/1163,      0      ],\n",
        "    [     0      , x*y*432/1163]\n",
        "])\n",
        "\n",
        "# Do the inner product!\n",
        "jTSj = j.T*Sig*j\n",
        "ans  = sympy.integrate(sympy.integrate(jTSj, (x,0,1)), (y,0,1))[0] # The `[0]` is to make it an int.\n",
        "\n",
        "print( \"It is trivial to see that the answer is {}.\".format(ans) )"
      ]
    },
    {
      "cell_type": "markdown",
      "metadata": {
        "iooxa": {
          "id": {
            "block": "Q4LY68w68gHywJXJgboO",
            "project": "5dxSs15hZtvQDKSzFgjP",
            "version": 1
          }
        }
      },
      "source": [
        "Wonderful. Everything seems right in the world with that answer. Next step is to sub in the locations of the grid on both the faces in x and y as well as the cell centers."
      ]
    },
    {
      "cell_type": "code",
      "execution_count": 10,
      "metadata": {
        "collapsed": false,
        "iooxa": {
          "id": {
            "block": "Wtyf5RJU5fa9fGZZ5yol",
            "project": "5dxSs15hZtvQDKSzFgjP",
            "version": 1
          },
          "outputId": {
            "block": "7Gzd8hQdpwr6jqp2FQFU",
            "project": "5dxSs15hZtvQDKSzFgjP",
            "version": 1
          }
        },
        "trusted": false
      },
      "outputs": [],
      "source": [
        "def get_vectors(mesh):\n",
        "    \"\"\"Gets the vectors sig and [jx, jy] from sympy.\"\"\"\n",
        "    f_jx  = sympy.lambdify((x,y), j[0], 'numpy')\n",
        "    f_jy  = sympy.lambdify((x,y), j[1], 'numpy')\n",
        "    f_sig = sympy.lambdify((x,y), Sig[0], 'numpy')\n",
        "    jx  = f_jx(mesh.gridFx[:,0], mesh.gridFx[:,1])\n",
        "    jy  = f_jy(mesh.gridFy[:,0], mesh.gridFy[:,1])\n",
        "    sig = f_sig(mesh.gridCC[:,0], mesh.gridCC[:,1])\n",
        "    return sig, np.r_[jx, jy]"
      ]
    },
    {
      "cell_type": "markdown",
      "metadata": {
        "iooxa": {
          "id": {
            "block": "PcA8DQgBBhOOq3iMGuCl",
            "project": "5dxSs15hZtvQDKSzFgjP",
            "version": 1
          }
        }
      },
      "source": [
        "Using these vectors ($\\sigma$ and $\\mathbf{j}$) we can evaluate the result on our mesh"
      ]
    },
    {
      "cell_type": "code",
      "execution_count": 12,
      "metadata": {
        "collapsed": false,
        "iooxa": {
          "id": {
            "block": "qddmFAn8izDKO9ynQWyi",
            "project": "5dxSs15hZtvQDKSzFgjP",
            "version": 1
          },
          "outputId": {
            "block": "N5fL7R5F7ohI7NYHfTpZ",
            "project": "5dxSs15hZtvQDKSzFgjP",
            "version": 1
          }
        },
        "trusted": false
      },
      "outputs": [
        {
          "name": "stdout",
          "output_type": "stream",
          "text": [
            "Numerically we get 41.18917558039555.\n"
          ]
        }
      ],
      "source": [
        "n = 5 # get's better if you add cells!\n",
        "mesh = discretize.TensorMesh([n,n])\n",
        "sig, jv = get_vectors(mesh)\n",
        "Msig = mesh.get_face_inner_product(sig)\n",
        "numeric_ans = jv.T.dot(Msig.dot(jv))\n",
        "print( \"Numerically we get {}.\".format(numeric_ans) )"
      ]
    },
    {
      "cell_type": "markdown",
      "metadata": {
        "iooxa": {
          "id": {
            "block": "Wmu04ObkA2uUXBGHYg32",
            "project": "5dxSs15hZtvQDKSzFgjP",
            "version": 1
          }
        }
      },
      "source": [
        "That is pretty close, but to be rigorous we should look at the order of the convergence which should be $\\mathcal{O}(h^2)$.\n",
        "\n",
        "SimPEG has a number of testing functions for \n",
        "[derivatives](http://docs.simpeg.xyz/content/api_core/api_Tests.html#SimPEG.Tests.checkDerivative)\n",
        "and \n",
        "[order of convergence](http://docs.simpeg.xyz/content/api_core/api_Tests.html#SimPEG.Tests.OrderTest) \n",
        "that make this pretty simple!"
      ]
    },
    {
      "cell_type": "code",
      "execution_count": 23,
      "metadata": {
        "collapsed": false,
        "iooxa": {
          "id": {
            "block": "oCa9boN1s3XlZa9SvmdU",
            "project": "5dxSs15hZtvQDKSzFgjP",
            "version": 1
          },
          "outputId": {
            "block": "tGj342IRsaYHRvrqwYBJ",
            "project": "5dxSs15hZtvQDKSzFgjP",
            "version": 1
          }
        },
        "trusted": false
      },
      "outputs": [
        {
          "name": "stderr",
          "output_type": "stream",
          "text": [
            "/opt/anaconda3/envs/simpeg/lib/python3.8/site-packages/discretize/utils/code_utils.py:247: FutureWarning: setupMesh has been deprecated, please use setup_mesh. It will be removed in version 1.0.0 of discretize.\n",
            "  warnings.warn(\n",
            "."
          ]
        },
        {
          "name": "stdout",
          "output_type": "stream",
          "text": [
            "\n",
            "uniformTensorMesh:  Order Test\n",
            "_____________________________________________\n",
            "   h  |    error    | e(i-1)/e(i) |  order\n",
            "~~~~~~|~~~~~~~~~~~~~|~~~~~~~~~~~~~|~~~~~~~~~~\n",
            "   4  |  1.27e+00   |\n",
            "   8  |  3.17e-01   |   3.9942    |  1.9979\n",
            "  16  |  7.93e-02   |   3.9985    |  1.9995\n",
            "  32  |  1.98e-02   |   3.9996    |  1.9999\n",
            "---------------------------------------------\n",
            "You get a gold star!\n",
            "\n"
          ]
        },
        {
          "name": "stderr",
          "output_type": "stream",
          "text": [
            "\n",
            "----------------------------------------------------------------------\n",
            "Ran 1 test in 0.019s\n",
            "\n",
            "OK\n"
          ]
        }
      ],
      "source": [
        "import sys\n",
        "import unittest\n",
        "from discretize.tests import OrderTest\n",
        "\n",
        "class Testify(OrderTest):\n",
        "    meshDimension = 2\n",
        "    def getError(self):\n",
        "        sig, jv = get_vectors(self.M)\n",
        "        Msig = self.M.get_face_inner_product(sig)\n",
        "        return float(ans) - jv.T.dot(Msig.dot(jv))\n",
        "    def test_order(self):\n",
        "        self.orderTest()\n",
        "\n",
        "# This just runs the unittest:\n",
        "suite = unittest.TestLoader().loadTestsFromTestCase( Testify )\n",
        "unittest.TextTestRunner().run( suite );"
      ]
    },
    {
      "cell_type": "markdown",
      "metadata": {
        "iooxa": {
          "id": {
            "block": "aTIbN9BFtHIPWlwGCeG6",
            "project": "5dxSs15hZtvQDKSzFgjP",
            "version": 1
          }
        }
      },
      "source": [
        "These basic operations on the mesh for inner products and differential operators are core pieces of SimPEG, and they need to be tested continuously to ensure that no one has broken them!\n",
        "\n",
        "On every single change to the SimPEG codebase many hours of testing are completed!\n",
        "\n",
        "If you would like to browse through the results of 424 tests that are run on the mesh classes you can see them here:\n",
        "\n",
        "https://travis-ci.org/simpeg/simpeg/jobs/148608973"
      ]
    },
    {
      "cell_type": "markdown",
      "metadata": {
        "iooxa": {
          "id": {
            "block": "XnthZqZ9T4KoIpVw1HqS",
            "project": "5dxSs15hZtvQDKSzFgjP",
            "version": 1
          }
        }
      },
      "source": [
        "# Next up ...\n",
        "\n",
        "In the [next notebook](all_together_now.ipynb) we will use our knowledge of the [mesh](mesh.ipynb) and the [divergence](divergence.ipynb) implementations to bring the DC resistivity equations together and show some pretty figures!"
      ]
    }
  ],
  "metadata": {
    "interpreter": {
      "hash": "28579dcce9b4c93863c7d16f93a67ba69218f1244c98cdb9f71bbf270d0a38fb"
    },
    "iooxa": {
      "id": {
        "block": "W44o6qg1BVf2Vg2rDMof",
        "project": "5dxSs15hZtvQDKSzFgjP",
        "version": 3
      }
    },
    "kernelspec": {
      "display_name": "Python 3.8.13 ('simpeg')",
      "language": "python",
      "name": "python3"
    },
    "language_info": {
      "codemirror_mode": {
        "name": "ipython",
        "version": 3
      },
      "file_extension": ".py",
      "mimetype": "text/x-python",
      "name": "python",
      "nbconvert_exporter": "python",
      "pygments_lexer": "ipython3",
      "version": "3.8.13"
    }
  },
  "nbformat": 4,
  "nbformat_minor": 1
}
